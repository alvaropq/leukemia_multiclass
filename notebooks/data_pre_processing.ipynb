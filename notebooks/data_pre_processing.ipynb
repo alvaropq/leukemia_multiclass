{
  "cells": [
    {
      "cell_type": "code",
      "execution_count": null,
      "metadata": {
        "id": "f2U0keEI4CA8"
      },
      "outputs": [],
      "source": [
        "import pandas as pd"
      ]
    },
    {
      "cell_type": "code",
      "execution_count": null,
      "metadata": {
        "id": "l_VJyETE4pKr"
      },
      "outputs": [],
      "source": [
        "df = pd.read_csv('GSE13159.csv')"
      ]
    },
    {
      "cell_type": "code",
      "execution_count": null,
      "metadata": {
        "colab": {
          "base_uri": "https://localhost:8080/",
          "height": 1000
        },
        "id": "Xy2tEE3CADGm",
        "outputId": "fc70a941-5dfc-4ebf-f51c-33804bc1d4bd"
      },
      "outputs": [
        {
          "output_type": "execute_result",
          "data": {
            "text/plain": [
              "         sample                                  type  AFFX-BioB-5_at  \\\n",
              "0     GSM329407             mature B-ALL with t(8;14)        1019.380   \n",
              "1     GSM329408             mature B-ALL with t(8;14)        1126.740   \n",
              "2     GSM329409             mature B-ALL with t(8;14)        1545.940   \n",
              "3     GSM329410             mature B-ALL with t(8;14)        2747.020   \n",
              "4     GSM329411             mature B-ALL with t(8;14)        5614.930   \n",
              "...         ...                                   ...             ...   \n",
              "2091  GSM331728  Non-leukemia and healthy bone marrow         801.557   \n",
              "2092  GSM331729  Non-leukemia and healthy bone marrow        1102.120   \n",
              "2093  GSM331730  Non-leukemia and healthy bone marrow         984.051   \n",
              "2094  GSM331731  Non-leukemia and healthy bone marrow         934.402   \n",
              "2095  GSM331732  Non-leukemia and healthy bone marrow         872.814   \n",
              "\n",
              "      AFFX-BioB-M_at  AFFX-BioB-3_at  AFFX-BioC-5_at  AFFX-BioC-3_at  \\\n",
              "0            1099.16         688.488         2576.98         3363.56   \n",
              "1            1167.66         840.345         2572.97         3291.99   \n",
              "2            2062.58        1240.190         3278.49         4032.60   \n",
              "3            2703.53        1646.690         6280.02         7565.71   \n",
              "4            9707.90        5331.420        17928.60        18722.00   \n",
              "...              ...             ...             ...             ...   \n",
              "2091         1164.89         641.835         2349.87         3577.89   \n",
              "2092         1612.17         851.951         2970.22         4444.84   \n",
              "2093         1328.34         863.258         2560.68         3588.98   \n",
              "2094         1236.07         718.028         2671.57         3663.81   \n",
              "2095          987.15         660.132         1961.69         2972.71   \n",
              "\n",
              "      AFFX-BioDn-5_at  AFFX-BioDn-3_at  AFFX-CreX-5_at  ...  1570631_at  \\\n",
              "0             6420.71          12750.3         26337.3  ...     89.8769   \n",
              "1             6171.86          11723.4         27573.8  ...     37.0536   \n",
              "2             8713.10          18047.1         44608.9  ...     74.3732   \n",
              "3            13037.10          29576.3         61453.7  ...    117.7080   \n",
              "4            28874.10          70896.2        128980.0  ...    309.3450   \n",
              "...               ...              ...             ...  ...         ...   \n",
              "2091          5179.81          11376.6         32543.2  ...     97.6645   \n",
              "2092          5886.24          14325.9         32958.0  ...     63.4420   \n",
              "2093          5296.43          11789.3         28766.6  ...    111.4570   \n",
              "2094          5064.37          12594.0         32548.2  ...     66.3315   \n",
              "2095          4068.54           9797.4         24761.8  ...     76.9509   \n",
              "\n",
              "      1570632_at  1570633_at  1570635_at  1570639_at  1570644_at  1570645_at  \\\n",
              "0        16.5212    48.50100     18.0256     25.8039     31.1645     48.5148   \n",
              "1        62.7578    28.36350     45.4390     59.3555     51.2732     85.3964   \n",
              "2        26.2296    42.94400     22.7571    109.2970     51.7468     45.0193   \n",
              "3        25.2851    30.64780     89.1606     78.0304    238.0590     93.7531   \n",
              "4        52.8402   104.07000    136.9210    125.5090     57.2892    127.5280   \n",
              "...          ...         ...         ...         ...         ...         ...   \n",
              "2091     43.1096    39.67160     19.0503     19.5543     34.8201     33.8215   \n",
              "2092     15.3373     9.18793     13.4574     37.3001     98.8915     47.6456   \n",
              "2093     18.1055    31.71570     24.5575     43.2064     66.1001     53.7823   \n",
              "2094     45.3812    14.90950     17.7021    105.5470     28.1117     42.7926   \n",
              "2095      4.0510    11.62330     22.0843     11.6507     54.4884     16.3556   \n",
              "\n",
              "      1570650_at  1570651_at  1570653_at  \n",
              "0        20.3446     72.4218     23.0226  \n",
              "1        36.3192     37.2117     29.1351  \n",
              "2        43.8192     58.5590     13.2296  \n",
              "3        32.9817    196.1200     28.1665  \n",
              "4       214.8240    488.8230    122.2930  \n",
              "...          ...         ...         ...  \n",
              "2091     63.2554    126.4980     13.2352  \n",
              "2092     19.6809    137.1330     38.2153  \n",
              "2093     58.4748     11.1636     26.2777  \n",
              "2094     59.1250     34.4237     20.7161  \n",
              "2095     10.8521     62.0349     55.3259  \n",
              "\n",
              "[2096 rows x 54677 columns]"
            ],
            "text/html": [
              "\n",
              "  <div id=\"df-cef0d893-1482-4fea-9854-0611c315a470\" class=\"colab-df-container\">\n",
              "    <div>\n",
              "<style scoped>\n",
              "    .dataframe tbody tr th:only-of-type {\n",
              "        vertical-align: middle;\n",
              "    }\n",
              "\n",
              "    .dataframe tbody tr th {\n",
              "        vertical-align: top;\n",
              "    }\n",
              "\n",
              "    .dataframe thead th {\n",
              "        text-align: right;\n",
              "    }\n",
              "</style>\n",
              "<table border=\"1\" class=\"dataframe\">\n",
              "  <thead>\n",
              "    <tr style=\"text-align: right;\">\n",
              "      <th></th>\n",
              "      <th>sample</th>\n",
              "      <th>type</th>\n",
              "      <th>AFFX-BioB-5_at</th>\n",
              "      <th>AFFX-BioB-M_at</th>\n",
              "      <th>AFFX-BioB-3_at</th>\n",
              "      <th>AFFX-BioC-5_at</th>\n",
              "      <th>AFFX-BioC-3_at</th>\n",
              "      <th>AFFX-BioDn-5_at</th>\n",
              "      <th>AFFX-BioDn-3_at</th>\n",
              "      <th>AFFX-CreX-5_at</th>\n",
              "      <th>...</th>\n",
              "      <th>1570631_at</th>\n",
              "      <th>1570632_at</th>\n",
              "      <th>1570633_at</th>\n",
              "      <th>1570635_at</th>\n",
              "      <th>1570639_at</th>\n",
              "      <th>1570644_at</th>\n",
              "      <th>1570645_at</th>\n",
              "      <th>1570650_at</th>\n",
              "      <th>1570651_at</th>\n",
              "      <th>1570653_at</th>\n",
              "    </tr>\n",
              "  </thead>\n",
              "  <tbody>\n",
              "    <tr>\n",
              "      <th>0</th>\n",
              "      <td>GSM329407</td>\n",
              "      <td>mature B-ALL with t(8;14)</td>\n",
              "      <td>1019.380</td>\n",
              "      <td>1099.16</td>\n",
              "      <td>688.488</td>\n",
              "      <td>2576.98</td>\n",
              "      <td>3363.56</td>\n",
              "      <td>6420.71</td>\n",
              "      <td>12750.3</td>\n",
              "      <td>26337.3</td>\n",
              "      <td>...</td>\n",
              "      <td>89.8769</td>\n",
              "      <td>16.5212</td>\n",
              "      <td>48.50100</td>\n",
              "      <td>18.0256</td>\n",
              "      <td>25.8039</td>\n",
              "      <td>31.1645</td>\n",
              "      <td>48.5148</td>\n",
              "      <td>20.3446</td>\n",
              "      <td>72.4218</td>\n",
              "      <td>23.0226</td>\n",
              "    </tr>\n",
              "    <tr>\n",
              "      <th>1</th>\n",
              "      <td>GSM329408</td>\n",
              "      <td>mature B-ALL with t(8;14)</td>\n",
              "      <td>1126.740</td>\n",
              "      <td>1167.66</td>\n",
              "      <td>840.345</td>\n",
              "      <td>2572.97</td>\n",
              "      <td>3291.99</td>\n",
              "      <td>6171.86</td>\n",
              "      <td>11723.4</td>\n",
              "      <td>27573.8</td>\n",
              "      <td>...</td>\n",
              "      <td>37.0536</td>\n",
              "      <td>62.7578</td>\n",
              "      <td>28.36350</td>\n",
              "      <td>45.4390</td>\n",
              "      <td>59.3555</td>\n",
              "      <td>51.2732</td>\n",
              "      <td>85.3964</td>\n",
              "      <td>36.3192</td>\n",
              "      <td>37.2117</td>\n",
              "      <td>29.1351</td>\n",
              "    </tr>\n",
              "    <tr>\n",
              "      <th>2</th>\n",
              "      <td>GSM329409</td>\n",
              "      <td>mature B-ALL with t(8;14)</td>\n",
              "      <td>1545.940</td>\n",
              "      <td>2062.58</td>\n",
              "      <td>1240.190</td>\n",
              "      <td>3278.49</td>\n",
              "      <td>4032.60</td>\n",
              "      <td>8713.10</td>\n",
              "      <td>18047.1</td>\n",
              "      <td>44608.9</td>\n",
              "      <td>...</td>\n",
              "      <td>74.3732</td>\n",
              "      <td>26.2296</td>\n",
              "      <td>42.94400</td>\n",
              "      <td>22.7571</td>\n",
              "      <td>109.2970</td>\n",
              "      <td>51.7468</td>\n",
              "      <td>45.0193</td>\n",
              "      <td>43.8192</td>\n",
              "      <td>58.5590</td>\n",
              "      <td>13.2296</td>\n",
              "    </tr>\n",
              "    <tr>\n",
              "      <th>3</th>\n",
              "      <td>GSM329410</td>\n",
              "      <td>mature B-ALL with t(8;14)</td>\n",
              "      <td>2747.020</td>\n",
              "      <td>2703.53</td>\n",
              "      <td>1646.690</td>\n",
              "      <td>6280.02</td>\n",
              "      <td>7565.71</td>\n",
              "      <td>13037.10</td>\n",
              "      <td>29576.3</td>\n",
              "      <td>61453.7</td>\n",
              "      <td>...</td>\n",
              "      <td>117.7080</td>\n",
              "      <td>25.2851</td>\n",
              "      <td>30.64780</td>\n",
              "      <td>89.1606</td>\n",
              "      <td>78.0304</td>\n",
              "      <td>238.0590</td>\n",
              "      <td>93.7531</td>\n",
              "      <td>32.9817</td>\n",
              "      <td>196.1200</td>\n",
              "      <td>28.1665</td>\n",
              "    </tr>\n",
              "    <tr>\n",
              "      <th>4</th>\n",
              "      <td>GSM329411</td>\n",
              "      <td>mature B-ALL with t(8;14)</td>\n",
              "      <td>5614.930</td>\n",
              "      <td>9707.90</td>\n",
              "      <td>5331.420</td>\n",
              "      <td>17928.60</td>\n",
              "      <td>18722.00</td>\n",
              "      <td>28874.10</td>\n",
              "      <td>70896.2</td>\n",
              "      <td>128980.0</td>\n",
              "      <td>...</td>\n",
              "      <td>309.3450</td>\n",
              "      <td>52.8402</td>\n",
              "      <td>104.07000</td>\n",
              "      <td>136.9210</td>\n",
              "      <td>125.5090</td>\n",
              "      <td>57.2892</td>\n",
              "      <td>127.5280</td>\n",
              "      <td>214.8240</td>\n",
              "      <td>488.8230</td>\n",
              "      <td>122.2930</td>\n",
              "    </tr>\n",
              "    <tr>\n",
              "      <th>...</th>\n",
              "      <td>...</td>\n",
              "      <td>...</td>\n",
              "      <td>...</td>\n",
              "      <td>...</td>\n",
              "      <td>...</td>\n",
              "      <td>...</td>\n",
              "      <td>...</td>\n",
              "      <td>...</td>\n",
              "      <td>...</td>\n",
              "      <td>...</td>\n",
              "      <td>...</td>\n",
              "      <td>...</td>\n",
              "      <td>...</td>\n",
              "      <td>...</td>\n",
              "      <td>...</td>\n",
              "      <td>...</td>\n",
              "      <td>...</td>\n",
              "      <td>...</td>\n",
              "      <td>...</td>\n",
              "      <td>...</td>\n",
              "      <td>...</td>\n",
              "    </tr>\n",
              "    <tr>\n",
              "      <th>2091</th>\n",
              "      <td>GSM331728</td>\n",
              "      <td>Non-leukemia and healthy bone marrow</td>\n",
              "      <td>801.557</td>\n",
              "      <td>1164.89</td>\n",
              "      <td>641.835</td>\n",
              "      <td>2349.87</td>\n",
              "      <td>3577.89</td>\n",
              "      <td>5179.81</td>\n",
              "      <td>11376.6</td>\n",
              "      <td>32543.2</td>\n",
              "      <td>...</td>\n",
              "      <td>97.6645</td>\n",
              "      <td>43.1096</td>\n",
              "      <td>39.67160</td>\n",
              "      <td>19.0503</td>\n",
              "      <td>19.5543</td>\n",
              "      <td>34.8201</td>\n",
              "      <td>33.8215</td>\n",
              "      <td>63.2554</td>\n",
              "      <td>126.4980</td>\n",
              "      <td>13.2352</td>\n",
              "    </tr>\n",
              "    <tr>\n",
              "      <th>2092</th>\n",
              "      <td>GSM331729</td>\n",
              "      <td>Non-leukemia and healthy bone marrow</td>\n",
              "      <td>1102.120</td>\n",
              "      <td>1612.17</td>\n",
              "      <td>851.951</td>\n",
              "      <td>2970.22</td>\n",
              "      <td>4444.84</td>\n",
              "      <td>5886.24</td>\n",
              "      <td>14325.9</td>\n",
              "      <td>32958.0</td>\n",
              "      <td>...</td>\n",
              "      <td>63.4420</td>\n",
              "      <td>15.3373</td>\n",
              "      <td>9.18793</td>\n",
              "      <td>13.4574</td>\n",
              "      <td>37.3001</td>\n",
              "      <td>98.8915</td>\n",
              "      <td>47.6456</td>\n",
              "      <td>19.6809</td>\n",
              "      <td>137.1330</td>\n",
              "      <td>38.2153</td>\n",
              "    </tr>\n",
              "    <tr>\n",
              "      <th>2093</th>\n",
              "      <td>GSM331730</td>\n",
              "      <td>Non-leukemia and healthy bone marrow</td>\n",
              "      <td>984.051</td>\n",
              "      <td>1328.34</td>\n",
              "      <td>863.258</td>\n",
              "      <td>2560.68</td>\n",
              "      <td>3588.98</td>\n",
              "      <td>5296.43</td>\n",
              "      <td>11789.3</td>\n",
              "      <td>28766.6</td>\n",
              "      <td>...</td>\n",
              "      <td>111.4570</td>\n",
              "      <td>18.1055</td>\n",
              "      <td>31.71570</td>\n",
              "      <td>24.5575</td>\n",
              "      <td>43.2064</td>\n",
              "      <td>66.1001</td>\n",
              "      <td>53.7823</td>\n",
              "      <td>58.4748</td>\n",
              "      <td>11.1636</td>\n",
              "      <td>26.2777</td>\n",
              "    </tr>\n",
              "    <tr>\n",
              "      <th>2094</th>\n",
              "      <td>GSM331731</td>\n",
              "      <td>Non-leukemia and healthy bone marrow</td>\n",
              "      <td>934.402</td>\n",
              "      <td>1236.07</td>\n",
              "      <td>718.028</td>\n",
              "      <td>2671.57</td>\n",
              "      <td>3663.81</td>\n",
              "      <td>5064.37</td>\n",
              "      <td>12594.0</td>\n",
              "      <td>32548.2</td>\n",
              "      <td>...</td>\n",
              "      <td>66.3315</td>\n",
              "      <td>45.3812</td>\n",
              "      <td>14.90950</td>\n",
              "      <td>17.7021</td>\n",
              "      <td>105.5470</td>\n",
              "      <td>28.1117</td>\n",
              "      <td>42.7926</td>\n",
              "      <td>59.1250</td>\n",
              "      <td>34.4237</td>\n",
              "      <td>20.7161</td>\n",
              "    </tr>\n",
              "    <tr>\n",
              "      <th>2095</th>\n",
              "      <td>GSM331732</td>\n",
              "      <td>Non-leukemia and healthy bone marrow</td>\n",
              "      <td>872.814</td>\n",
              "      <td>987.15</td>\n",
              "      <td>660.132</td>\n",
              "      <td>1961.69</td>\n",
              "      <td>2972.71</td>\n",
              "      <td>4068.54</td>\n",
              "      <td>9797.4</td>\n",
              "      <td>24761.8</td>\n",
              "      <td>...</td>\n",
              "      <td>76.9509</td>\n",
              "      <td>4.0510</td>\n",
              "      <td>11.62330</td>\n",
              "      <td>22.0843</td>\n",
              "      <td>11.6507</td>\n",
              "      <td>54.4884</td>\n",
              "      <td>16.3556</td>\n",
              "      <td>10.8521</td>\n",
              "      <td>62.0349</td>\n",
              "      <td>55.3259</td>\n",
              "    </tr>\n",
              "  </tbody>\n",
              "</table>\n",
              "<p>2096 rows × 54677 columns</p>\n",
              "</div>\n",
              "    <div class=\"colab-df-buttons\">\n",
              "\n",
              "  <div class=\"colab-df-container\">\n",
              "    <button class=\"colab-df-convert\" onclick=\"convertToInteractive('df-cef0d893-1482-4fea-9854-0611c315a470')\"\n",
              "            title=\"Convert this dataframe to an interactive table.\"\n",
              "            style=\"display:none;\">\n",
              "\n",
              "  <svg xmlns=\"http://www.w3.org/2000/svg\" height=\"24px\" viewBox=\"0 -960 960 960\">\n",
              "    <path d=\"M120-120v-720h720v720H120Zm60-500h600v-160H180v160Zm220 220h160v-160H400v160Zm0 220h160v-160H400v160ZM180-400h160v-160H180v160Zm440 0h160v-160H620v160ZM180-180h160v-160H180v160Zm440 0h160v-160H620v160Z\"/>\n",
              "  </svg>\n",
              "    </button>\n",
              "\n",
              "  <style>\n",
              "    .colab-df-container {\n",
              "      display:flex;\n",
              "      gap: 12px;\n",
              "    }\n",
              "\n",
              "    .colab-df-convert {\n",
              "      background-color: #E8F0FE;\n",
              "      border: none;\n",
              "      border-radius: 50%;\n",
              "      cursor: pointer;\n",
              "      display: none;\n",
              "      fill: #1967D2;\n",
              "      height: 32px;\n",
              "      padding: 0 0 0 0;\n",
              "      width: 32px;\n",
              "    }\n",
              "\n",
              "    .colab-df-convert:hover {\n",
              "      background-color: #E2EBFA;\n",
              "      box-shadow: 0px 1px 2px rgba(60, 64, 67, 0.3), 0px 1px 3px 1px rgba(60, 64, 67, 0.15);\n",
              "      fill: #174EA6;\n",
              "    }\n",
              "\n",
              "    .colab-df-buttons div {\n",
              "      margin-bottom: 4px;\n",
              "    }\n",
              "\n",
              "    [theme=dark] .colab-df-convert {\n",
              "      background-color: #3B4455;\n",
              "      fill: #D2E3FC;\n",
              "    }\n",
              "\n",
              "    [theme=dark] .colab-df-convert:hover {\n",
              "      background-color: #434B5C;\n",
              "      box-shadow: 0px 1px 3px 1px rgba(0, 0, 0, 0.15);\n",
              "      filter: drop-shadow(0px 1px 2px rgba(0, 0, 0, 0.3));\n",
              "      fill: #FFFFFF;\n",
              "    }\n",
              "  </style>\n",
              "\n",
              "    <script>\n",
              "      const buttonEl =\n",
              "        document.querySelector('#df-cef0d893-1482-4fea-9854-0611c315a470 button.colab-df-convert');\n",
              "      buttonEl.style.display =\n",
              "        google.colab.kernel.accessAllowed ? 'block' : 'none';\n",
              "\n",
              "      async function convertToInteractive(key) {\n",
              "        const element = document.querySelector('#df-cef0d893-1482-4fea-9854-0611c315a470');\n",
              "        const dataTable =\n",
              "          await google.colab.kernel.invokeFunction('convertToInteractive',\n",
              "                                                    [key], {});\n",
              "        if (!dataTable) return;\n",
              "\n",
              "        const docLinkHtml = 'Like what you see? Visit the ' +\n",
              "          '<a target=\"_blank\" href=https://colab.research.google.com/notebooks/data_table.ipynb>data table notebook</a>'\n",
              "          + ' to learn more about interactive tables.';\n",
              "        element.innerHTML = '';\n",
              "        dataTable['output_type'] = 'display_data';\n",
              "        await google.colab.output.renderOutput(dataTable, element);\n",
              "        const docLink = document.createElement('div');\n",
              "        docLink.innerHTML = docLinkHtml;\n",
              "        element.appendChild(docLink);\n",
              "      }\n",
              "    </script>\n",
              "  </div>\n",
              "\n",
              "\n",
              "<div id=\"df-07c7a902-b12c-4536-b6b0-f7d242dc808e\">\n",
              "  <button class=\"colab-df-quickchart\" onclick=\"quickchart('df-07c7a902-b12c-4536-b6b0-f7d242dc808e')\"\n",
              "            title=\"Suggest charts.\"\n",
              "            style=\"display:none;\">\n",
              "\n",
              "<svg xmlns=\"http://www.w3.org/2000/svg\" height=\"24px\"viewBox=\"0 0 24 24\"\n",
              "     width=\"24px\">\n",
              "    <g>\n",
              "        <path d=\"M19 3H5c-1.1 0-2 .9-2 2v14c0 1.1.9 2 2 2h14c1.1 0 2-.9 2-2V5c0-1.1-.9-2-2-2zM9 17H7v-7h2v7zm4 0h-2V7h2v10zm4 0h-2v-4h2v4z\"/>\n",
              "    </g>\n",
              "</svg>\n",
              "  </button>\n",
              "\n",
              "<style>\n",
              "  .colab-df-quickchart {\n",
              "      --bg-color: #E8F0FE;\n",
              "      --fill-color: #1967D2;\n",
              "      --hover-bg-color: #E2EBFA;\n",
              "      --hover-fill-color: #174EA6;\n",
              "      --disabled-fill-color: #AAA;\n",
              "      --disabled-bg-color: #DDD;\n",
              "  }\n",
              "\n",
              "  [theme=dark] .colab-df-quickchart {\n",
              "      --bg-color: #3B4455;\n",
              "      --fill-color: #D2E3FC;\n",
              "      --hover-bg-color: #434B5C;\n",
              "      --hover-fill-color: #FFFFFF;\n",
              "      --disabled-bg-color: #3B4455;\n",
              "      --disabled-fill-color: #666;\n",
              "  }\n",
              "\n",
              "  .colab-df-quickchart {\n",
              "    background-color: var(--bg-color);\n",
              "    border: none;\n",
              "    border-radius: 50%;\n",
              "    cursor: pointer;\n",
              "    display: none;\n",
              "    fill: var(--fill-color);\n",
              "    height: 32px;\n",
              "    padding: 0;\n",
              "    width: 32px;\n",
              "  }\n",
              "\n",
              "  .colab-df-quickchart:hover {\n",
              "    background-color: var(--hover-bg-color);\n",
              "    box-shadow: 0 1px 2px rgba(60, 64, 67, 0.3), 0 1px 3px 1px rgba(60, 64, 67, 0.15);\n",
              "    fill: var(--button-hover-fill-color);\n",
              "  }\n",
              "\n",
              "  .colab-df-quickchart-complete:disabled,\n",
              "  .colab-df-quickchart-complete:disabled:hover {\n",
              "    background-color: var(--disabled-bg-color);\n",
              "    fill: var(--disabled-fill-color);\n",
              "    box-shadow: none;\n",
              "  }\n",
              "\n",
              "  .colab-df-spinner {\n",
              "    border: 2px solid var(--fill-color);\n",
              "    border-color: transparent;\n",
              "    border-bottom-color: var(--fill-color);\n",
              "    animation:\n",
              "      spin 1s steps(1) infinite;\n",
              "  }\n",
              "\n",
              "  @keyframes spin {\n",
              "    0% {\n",
              "      border-color: transparent;\n",
              "      border-bottom-color: var(--fill-color);\n",
              "      border-left-color: var(--fill-color);\n",
              "    }\n",
              "    20% {\n",
              "      border-color: transparent;\n",
              "      border-left-color: var(--fill-color);\n",
              "      border-top-color: var(--fill-color);\n",
              "    }\n",
              "    30% {\n",
              "      border-color: transparent;\n",
              "      border-left-color: var(--fill-color);\n",
              "      border-top-color: var(--fill-color);\n",
              "      border-right-color: var(--fill-color);\n",
              "    }\n",
              "    40% {\n",
              "      border-color: transparent;\n",
              "      border-right-color: var(--fill-color);\n",
              "      border-top-color: var(--fill-color);\n",
              "    }\n",
              "    60% {\n",
              "      border-color: transparent;\n",
              "      border-right-color: var(--fill-color);\n",
              "    }\n",
              "    80% {\n",
              "      border-color: transparent;\n",
              "      border-right-color: var(--fill-color);\n",
              "      border-bottom-color: var(--fill-color);\n",
              "    }\n",
              "    90% {\n",
              "      border-color: transparent;\n",
              "      border-bottom-color: var(--fill-color);\n",
              "    }\n",
              "  }\n",
              "</style>\n",
              "\n",
              "  <script>\n",
              "    async function quickchart(key) {\n",
              "      const quickchartButtonEl =\n",
              "        document.querySelector('#' + key + ' button');\n",
              "      quickchartButtonEl.disabled = true;  // To prevent multiple clicks.\n",
              "      quickchartButtonEl.classList.add('colab-df-spinner');\n",
              "      try {\n",
              "        const charts = await google.colab.kernel.invokeFunction(\n",
              "            'suggestCharts', [key], {});\n",
              "      } catch (error) {\n",
              "        console.error('Error during call to suggestCharts:', error);\n",
              "      }\n",
              "      quickchartButtonEl.classList.remove('colab-df-spinner');\n",
              "      quickchartButtonEl.classList.add('colab-df-quickchart-complete');\n",
              "    }\n",
              "    (() => {\n",
              "      let quickchartButtonEl =\n",
              "        document.querySelector('#df-07c7a902-b12c-4536-b6b0-f7d242dc808e button');\n",
              "      quickchartButtonEl.style.display =\n",
              "        google.colab.kernel.accessAllowed ? 'block' : 'none';\n",
              "    })();\n",
              "  </script>\n",
              "</div>\n",
              "    </div>\n",
              "  </div>\n"
            ]
          },
          "metadata": {},
          "execution_count": 31
        }
      ],
      "source": [
        "df"
      ]
    },
    {
      "cell_type": "code",
      "execution_count": null,
      "metadata": {
        "id": "_FrPYx4H4urc"
      },
      "outputs": [],
      "source": [
        "df = df.drop('sample',axis=1)"
      ]
    },
    {
      "cell_type": "code",
      "execution_count": null,
      "metadata": {
        "id": "N_Fqy-uv7nWA"
      },
      "outputs": [],
      "source": [
        "df = df.rename(columns = {'type':'class'})"
      ]
    },
    {
      "cell_type": "code",
      "execution_count": null,
      "metadata": {
        "colab": {
          "base_uri": "https://localhost:8080/"
        },
        "id": "acGaAGTc4K-p",
        "outputId": "abcd4bba-e71c-47b4-b796-96f8fdb20519"
      },
      "outputs": [
        {
          "output_type": "execute_result",
          "data": {
            "text/plain": [
              "class\n",
              "ALL with hyperdiploid karyotype                     40\n",
              "ALL with t(12;21)                                   58\n",
              "ALL with t(1;19)                                    36\n",
              "AML complex aberrant karyotype                      48\n",
              "AML with inv(16)/t(16;16)                           28\n",
              "AML with normal karyotype + other abnormalities    351\n",
              "AML with t(11q23)/MLL                               38\n",
              "AML with t(15;17)                                   37\n",
              "AML with t(8;21)                                    40\n",
              "CLL                                                448\n",
              "CML                                                 76\n",
              "MDS                                                206\n",
              "Non-leukemia and healthy bone marrow                74\n",
              "Pro-B-ALL with t(11q23)/MLL                         70\n",
              "T-ALL                                              174\n",
              "c-ALL/Pre-B-ALL with t(9;22)                       122\n",
              "c-ALL/Pre-B-ALL without t(9;22)                    237\n",
              "mature B-ALL with t(8;14)                           13\n",
              "Name: class, dtype: int64"
            ]
          },
          "metadata": {},
          "execution_count": 34
        }
      ],
      "source": [
        "df.groupby('class')['class'].size()"
      ]
    },
    {
      "cell_type": "code",
      "execution_count": null,
      "metadata": {
        "id": "iFsJGHOJFNNC"
      },
      "outputs": [],
      "source": [
        "df = df[~df['class'].isna()]"
      ]
    },
    {
      "cell_type": "code",
      "execution_count": null,
      "metadata": {
        "id": "gHmA8aju94R4"
      },
      "outputs": [],
      "source": [
        "import numpy as np"
      ]
    },
    {
      "cell_type": "code",
      "execution_count": null,
      "metadata": {
        "colab": {
          "base_uri": "https://localhost:8080/"
        },
        "id": "ezaFsndQG0gy",
        "outputId": "e5904fc4-22ef-4188-b3af-016b2eab4767"
      },
      "outputs": [
        {
          "output_type": "execute_result",
          "data": {
            "text/plain": [
              "class             0\n",
              "AFFX-BioB-5_at    0\n",
              "AFFX-BioB-M_at    0\n",
              "AFFX-BioB-3_at    0\n",
              "AFFX-BioC-5_at    0\n",
              "                 ..\n",
              "1570644_at        0\n",
              "1570645_at        0\n",
              "1570650_at        0\n",
              "1570651_at        0\n",
              "1570653_at        0\n",
              "Length: 54676, dtype: int64"
            ]
          },
          "metadata": {},
          "execution_count": 37
        }
      ],
      "source": [
        "df.isna().sum()"
      ]
    },
    {
      "cell_type": "code",
      "execution_count": null,
      "metadata": {
        "colab": {
          "base_uri": "https://localhost:8080/"
        },
        "id": "YbTgSrCE8Cpi",
        "outputId": "86bf2686-cfc7-4b97-a2cd-7d59d561feb9"
      },
      "outputs": [
        {
          "output_type": "execute_result",
          "data": {
            "text/plain": [
              "54676"
            ]
          },
          "metadata": {},
          "execution_count": 38
        }
      ],
      "source": [
        "np.array([df.isna().sum() == 0]).sum()"
      ]
    },
    {
      "cell_type": "code",
      "execution_count": null,
      "metadata": {
        "id": "a_efkkOg-FSV"
      },
      "outputs": [],
      "source": [
        "for i in range(0,5):\n",
        "  df[(int(len(df)/5) * i) : (int(len(df)/5) * (i+1))].to_csv('/content/drive/MyDrive/app_leukemia/dados/UTFPR/flat/GSE13159_'+str(i+1)+'.csv', index=False)"
      ]
    },
    {
      "cell_type": "code",
      "execution_count": null,
      "metadata": {
        "id": "sNV2nDw78OOy"
      },
      "outputs": [],
      "source": [
        "df.to_csv('flat/GSE13159.csv', index=False)"
      ]
    },
    {
      "cell_type": "code",
      "execution_count": null,
      "metadata": {
        "id": "5sqT6_ab3yuB"
      },
      "outputs": [],
      "source": [
        "def disease(string):\n",
        "  if string.find(\"MDS\") != -1:\n",
        "    return 'MDS'\n",
        "  elif string.find(\"Non-leukemia and healthy bone marrow\") != -1:\n",
        "    return 'Non-leukemia and healthy bone marrow'\n",
        "  else:\n",
        "    return 'Leukemia'"
      ]
    },
    {
      "cell_type": "code",
      "source": [
        "df['disease'] = list(map(disease, df['class']))"
      ],
      "metadata": {
        "id": "QsHcv2-wkclz"
      },
      "execution_count": null,
      "outputs": []
    },
    {
      "cell_type": "code",
      "source": [
        "df.groupby('disease').size()"
      ],
      "metadata": {
        "colab": {
          "base_uri": "https://localhost:8080/"
        },
        "id": "dUm4-Qekkhrq",
        "outputId": "72e61af2-42ce-4ca3-cc1e-ac57a38c0d55"
      },
      "execution_count": null,
      "outputs": [
        {
          "output_type": "execute_result",
          "data": {
            "text/plain": [
              "disease\n",
              "Leukemia                                973\n",
              "MDS                                     121\n",
              "Non-leukemia and healthy bone marrow     58\n",
              "dtype: int64"
            ]
          },
          "metadata": {},
          "execution_count": 7
        }
      ]
    },
    {
      "cell_type": "code",
      "source": [
        "def leukemia(string):\n",
        "  if string.find(\"CLL\") != -1:\n",
        "    return 'CLL'\n",
        "  elif string.find(\"CML\") != -1:\n",
        "    return 'CML'\n",
        "  elif string.find(\"ALL\") != -1:\n",
        "    return 'ALL'\n",
        "  elif string.find(\"AML\") != -1:\n",
        "    return 'AML'\n",
        "  else:\n",
        "    return None"
      ],
      "metadata": {
        "id": "hbwNsZa3krpS"
      },
      "execution_count": null,
      "outputs": []
    },
    {
      "cell_type": "code",
      "source": [
        "df['leukemia'] = list(map(leukemia, df['class']))"
      ],
      "metadata": {
        "id": "YrqTWRZJlk90"
      },
      "execution_count": null,
      "outputs": []
    },
    {
      "cell_type": "code",
      "source": [
        "df.groupby('leukemia',dropna=False).size()"
      ],
      "metadata": {
        "colab": {
          "base_uri": "https://localhost:8080/"
        },
        "id": "j9iLPqg7lq-j",
        "outputId": "46fd4cc8-0958-4f13-a3b1-055c5f05871e"
      },
      "execution_count": null,
      "outputs": [
        {
          "output_type": "execute_result",
          "data": {
            "text/plain": [
              "leukemia\n",
              "ALL    436\n",
              "AML    257\n",
              "CLL    237\n",
              "CML     43\n",
              "NaN    179\n",
              "dtype: int64"
            ]
          },
          "metadata": {},
          "execution_count": 10
        }
      ]
    },
    {
      "cell_type": "code",
      "execution_count": null,
      "metadata": {
        "id": "cgEFza-w4GM2"
      },
      "outputs": [],
      "source": [
        "def subtypes(string):\n",
        "  if string.find(\"ALL with t(12;21)\") != -1:\n",
        "    return 'ALL with t(12;21)'\n",
        "  elif string.find(\"mature B-ALL with t(8;14)\") != -1:\n",
        "    return 'mature B-ALL with t(8;14)'\n",
        "  elif string.find(\"c-ALL/Pre-B-ALL without t(9;22)\") != -1:\n",
        "    return 'c-ALL/Pre-B-ALL without t(9;22)'\n",
        "  elif string.find(\"T-ALL\") != -1:\n",
        "    return 'T-ALL'\n",
        "  elif string.find(\"ALL with hyperdiploid karyotype\") != -1:\n",
        "    return 'ALL with hyperdiploid karyotype'\n",
        "  elif string.find(\"c-ALL/Pre-B-ALL with t(9;22)\") != -1:\n",
        "    return 'c-ALL/Pre-B-ALL with t(9;22)'\n",
        "  elif string.find(\"ALL with t(1;19)\") != -1:\n",
        "    return 'ALL with t(1;19)'\n",
        "  elif string.find(\"Pro-B-ALL with t(11q23)/MLL\") != -1:\n",
        "    return 'Pro-B-ALL with t(11q23)/MLL'\n",
        "  elif string.find(\"AML with t(15;17)\") != -1:\n",
        "    return 'AML with t(15;17)'\n",
        "  elif string.find(\"AML complex aberrant karyotype\") != -1:\n",
        "    return 'AML complex aberrant karyotype'\n",
        "  elif string.find(\"AML with t(11q23)/MLL\") != -1:\n",
        "    return 'AML with t(11q23)/MLL'\n",
        "  elif string.find(\"AML with normal karyotype + other abnormalities\") != -1:\n",
        "    return 'AML with normal karyotype + other abnormalities'\n",
        "  elif string.find(\"AML with t(8;21)\") != -1:\n",
        "    return 'AML with t(8;21)'\n",
        "  elif string.find(\"AML with inv(16)/t(16;16)\") != -1:\n",
        "    return 'AML with inv(16)/t(16;16)'\n",
        "  else:\n",
        "    return None"
      ]
    },
    {
      "cell_type": "code",
      "source": [
        "df['subtypes'] = list(map(subtypes, df['class']))"
      ],
      "metadata": {
        "id": "vj_nJ1E8rTkb"
      },
      "execution_count": null,
      "outputs": []
    },
    {
      "cell_type": "code",
      "source": [
        "df.groupby('subtypes',dropna=False).size()"
      ],
      "metadata": {
        "colab": {
          "base_uri": "https://localhost:8080/"
        },
        "id": "ZfGTkYfbrbJh",
        "outputId": "12228519-591d-402e-f7e2-e615819e9b1f"
      },
      "execution_count": null,
      "outputs": [
        {
          "output_type": "execute_result",
          "data": {
            "text/plain": [
              "subtypes\n",
              "ALL with hyperdiploid karyotype                     35\n",
              "ALL with t(12;21)                                   64\n",
              "ALL with t(1;19)                                    10\n",
              "AML complex aberrant karyotype                      24\n",
              "AML with inv(16)/t(16;16)                           20\n",
              "AML with normal karyotype + other abnormalities    160\n",
              "AML with t(11q23)/MLL                               17\n",
              "AML with t(15;17)                                   20\n",
              "AML with t(8;21)                                    16\n",
              "Pro-B-ALL with t(11q23)/MLL                         23\n",
              "T-ALL                                               79\n",
              "c-ALL/Pre-B-ALL with t(9;22)                        62\n",
              "c-ALL/Pre-B-ALL without t(9;22)                    158\n",
              "mature B-ALL with t(8;14)                            5\n",
              "NaN                                                459\n",
              "dtype: int64"
            ]
          },
          "metadata": {},
          "execution_count": 13
        }
      ]
    },
    {
      "cell_type": "code",
      "execution_count": null,
      "metadata": {
        "id": "Z9VNwa1p5i5W"
      },
      "outputs": [],
      "source": [
        "df = df.drop(columns=['class'])"
      ]
    },
    {
      "cell_type": "code",
      "execution_count": null,
      "metadata": {
        "id": "5xIvLszn5xo1"
      },
      "outputs": [],
      "source": [
        "df.to_csv('hierarchical/GSE13159.csv', index=False)"
      ]
    }
  ],
  "metadata": {
    "colab": {
      "provenance": []
    },
    "kernelspec": {
      "display_name": "Python 3",
      "name": "python3"
    },
    "language_info": {
      "name": "python"
    }
  },
  "nbformat": 4,
  "nbformat_minor": 0
}